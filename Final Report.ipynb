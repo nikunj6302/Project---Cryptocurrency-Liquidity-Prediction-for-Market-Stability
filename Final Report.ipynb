{
 "cells": [
  {
   "cell_type": "code",
   "execution_count": 4,
   "id": "58dc82be",
   "metadata": {},
   "outputs": [],
   "source": [
    "import pandas as pd\n",
    "import numpy as np\n",
    "import matplotlib.pyplot as plt\n",
    "import seaborn as sns\n",
    "import plotly.express as px\n",
    "import pickle\n",
    "import warnings\n",
    "warnings.filterwarnings('ignore')"
   ]
  },
  {
   "cell_type": "code",
   "execution_count": 7,
   "id": "3c4ebfbd",
   "metadata": {},
   "outputs": [],
   "source": [
    "# Load merge CSV file\n",
    "df = pd.read_csv(\"clustering.csv\")\n",
    "\n",
    "df.head()\n",
    "\n",
    "X = df.iloc[:,-7:-1]\n",
    "y = df.iloc[:,-1:]"
   ]
  },
  {
   "cell_type": "code",
   "execution_count": 9,
   "id": "e9f48fcc",
   "metadata": {},
   "outputs": [
    {
     "name": "stdout",
     "output_type": "stream",
     "text": [
      "Predictions: [0 0 0 0 0]\n",
      "Accuracy: 0.9858870967741935\n"
     ]
    }
   ],
   "source": [
    "# Load the saved model\n",
    "with open(\"Final Model.pkl\", \"rb\") as f:\n",
    "    final_model = pickle.load(f)\n",
    "\n",
    "# Use the model for prediction\n",
    "y_pred_new = final_model.predict(X[:5])\n",
    "print(\"Predictions:\", y_pred_new)\n",
    "\n",
    "#Print accuracy of the model\n",
    "from sklearn.metrics import accuracy_score\n",
    "y_prediction = final_model.predict(X)\n",
    "acc = accuracy_score(y, y_prediction)\n",
    "\n",
    "print(\"Accuracy:\", acc)\n"
   ]
  }
 ],
 "metadata": {
  "kernelspec": {
   "display_name": ".venv",
   "language": "python",
   "name": "python3"
  },
  "language_info": {
   "codemirror_mode": {
    "name": "ipython",
    "version": 3
   },
   "file_extension": ".py",
   "mimetype": "text/x-python",
   "name": "python",
   "nbconvert_exporter": "python",
   "pygments_lexer": "ipython3",
   "version": "3.13.3"
  }
 },
 "nbformat": 4,
 "nbformat_minor": 5
}
